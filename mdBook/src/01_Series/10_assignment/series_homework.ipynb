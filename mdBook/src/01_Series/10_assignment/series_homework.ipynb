{
 "cells": [
  {
   "cell_type": "markdown",
   "id": "f25a38eb",
   "metadata": {},
   "source": [
    "#### Import pandas with its alias"
   ]
  },
  {
   "cell_type": "code",
   "execution_count": null,
   "id": "b50fd072",
   "metadata": {},
   "outputs": [],
   "source": []
  },
  {
   "cell_type": "markdown",
   "id": "1c1eb573",
   "metadata": {},
   "source": [
    "#### Load the ```TopRichestInWorld.csv``` file and make 'Name' the index and 'Age' the column"
   ]
  },
  {
   "cell_type": "code",
   "execution_count": null,
   "id": "2725b262",
   "metadata": {},
   "outputs": [],
   "source": []
  },
  {
   "cell_type": "markdown",
   "id": "887579c8",
   "metadata": {},
   "source": [
    "#### Which person is the oldest?"
   ]
  },
  {
   "cell_type": "code",
   "execution_count": null,
   "id": "fed5905a",
   "metadata": {},
   "outputs": [],
   "source": []
  },
  {
   "cell_type": "markdown",
   "id": "997a3c61",
   "metadata": {},
   "source": [
    "#### How old is he?"
   ]
  },
  {
   "cell_type": "code",
   "execution_count": null,
   "id": "79abfe3d",
   "metadata": {},
   "outputs": [],
   "source": []
  },
  {
   "cell_type": "markdown",
   "id": "e435a49e",
   "metadata": {},
   "source": [
    "#### Sort the values from the oldest to youngest age to verify"
   ]
  },
  {
   "cell_type": "code",
   "execution_count": null,
   "id": "897d0c21",
   "metadata": {},
   "outputs": [],
   "source": []
  },
  {
   "cell_type": "markdown",
   "id": "4335d9b1",
   "metadata": {},
   "source": [
    "#### Which person is the youngest?"
   ]
  },
  {
   "cell_type": "code",
   "execution_count": null,
   "id": "df45b19e",
   "metadata": {},
   "outputs": [],
   "source": []
  },
  {
   "cell_type": "markdown",
   "id": "1d895389",
   "metadata": {},
   "source": [
    "#### How young is the youngest?"
   ]
  },
  {
   "cell_type": "code",
   "execution_count": null,
   "id": "560aed7c",
   "metadata": {},
   "outputs": [],
   "source": []
  },
  {
   "cell_type": "markdown",
   "id": "ce7dec62",
   "metadata": {},
   "source": [
    "#### What is the average age of all the millionaires? (Round it to 2 decimal places)"
   ]
  },
  {
   "cell_type": "code",
   "execution_count": null,
   "id": "92acbe42",
   "metadata": {},
   "outputs": [],
   "source": []
  },
  {
   "cell_type": "markdown",
   "id": "bc855fe3",
   "metadata": {},
   "source": [
    "#### Save the series as a csv file named: sample.csv"
   ]
  },
  {
   "cell_type": "code",
   "execution_count": null,
   "id": "d2b3ed70",
   "metadata": {},
   "outputs": [],
   "source": []
  },
  {
   "cell_type": "markdown",
   "id": "c59410b5",
   "metadata": {},
   "source": [
    "#### Read the csv you just saved"
   ]
  },
  {
   "cell_type": "code",
   "execution_count": null,
   "id": "a673f042",
   "metadata": {},
   "outputs": [],
   "source": []
  }
 ],
 "metadata": {
  "kernelspec": {
   "display_name": "Python 3 (ipykernel)",
   "language": "python",
   "name": "python3"
  },
  "language_info": {
   "codemirror_mode": {
    "name": "ipython",
    "version": 3
   },
   "file_extension": ".py",
   "mimetype": "text/x-python",
   "name": "python",
   "nbconvert_exporter": "python",
   "pygments_lexer": "ipython3",
   "version": "3.10.9"
  }
 },
 "nbformat": 4,
 "nbformat_minor": 5
}
